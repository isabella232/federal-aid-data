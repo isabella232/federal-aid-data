{
 "cells": [
  {
   "cell_type": "code",
   "execution_count": 1,
   "metadata": {},
   "outputs": [],
   "source": [
    "# -*- coding: utf-8 -*-\n",
    "%matplotlib inline\n",
    "\n",
    "import re\n",
    "import pandas as pd\n",
    "import numpy as np\n",
    "import math\n",
    "import matplotlib as mplstyle\n",
    "import matplotlib.pyplot as plt\n",
    "import locale\n",
    "import arrow\n",
    "from locale import atof\n",
    "from dateutil import parser\n",
    "from datetime import datetime\n",
    "\n",
    "plt.style.use('fivethirtyeight')\n",
    "\n",
    "import warnings\n",
    "warnings.filterwarnings('ignore')"
   ]
  },
  {
   "cell_type": "code",
   "execution_count": 2,
   "metadata": {},
   "outputs": [],
   "source": [
    "# FY 2014, FY 2013, and FY 2012 official cohort default rates published \n",
    "# for schools participating in the Title IV student financial assistance programs.\n",
    "default_all_schools = pd.read_csv('data/_default/peps300_all.csv') "
   ]
  },
  {
   "cell_type": "code",
   "execution_count": 3,
   "metadata": {},
   "outputs": [
    {
     "data": {
      "text/plain": [
       "OPEID            4712\n",
       "Name             4712\n",
       "Address          4711\n",
       "City             4712\n",
       "State            4712\n",
       "State Desc       4712\n",
       "Zip Code         4701\n",
       "Zip Ext          4657\n",
       "Prog\\nLength     4712\n",
       "School\\nType     4712\n",
       "Year 1           4712\n",
       "Dual\\nNum 1      4712\n",
       "Dual\\nDenom 1    4712\n",
       "DRate 1          4712\n",
       "PRate 1          4712\n",
       "Ethnic Code      4712\n",
       "Program          4712\n",
       "Cong Dis         4550\n",
       "Region           4712\n",
       "Year 2           4712\n",
       "Dual\\nNum 2      4712\n",
       "Dual\\nDenom 2    4712\n",
       "DRate 2          4712\n",
       "PRate 2          4712\n",
       "Year 3           4712\n",
       "Dual\\nNum 3      4712\n",
       "Dual\\nDenom 3    4712\n",
       "DRate 3          4712\n",
       "PRate 3          4712\n",
       "dtype: int64"
      ]
     },
     "execution_count": 3,
     "metadata": {},
     "output_type": "execute_result"
    }
   ],
   "source": [
    "default_all_schools.count()"
   ]
  },
  {
   "cell_type": "code",
   "execution_count": null,
   "metadata": {},
   "outputs": [],
   "source": []
  }
 ],
 "metadata": {
  "kernelspec": {
   "display_name": "Python 2",
   "language": "python",
   "name": "python2"
  },
  "language_info": {
   "codemirror_mode": {
    "name": "ipython",
    "version": 2
   },
   "file_extension": ".py",
   "mimetype": "text/x-python",
   "name": "python",
   "nbconvert_exporter": "python",
   "pygments_lexer": "ipython2",
   "version": "2.7.12"
  }
 },
 "nbformat": 4,
 "nbformat_minor": 2
}
